{
 "cells": [
  {
   "cell_type": "code",
   "execution_count": 5,
   "id": "160df07a-14bc-4040-85cc-a6e981d43197",
   "metadata": {
    "tags": []
   },
   "outputs": [],
   "source": [
    "import os, sys\n",
    "import numpy as np\n",
    "from tqdm import tqdm\n",
    "import shutil"
   ]
  },
  {
   "cell_type": "code",
   "execution_count": 6,
   "id": "a7ff7f96-2ff7-4757-b3ab-738e0e057ecf",
   "metadata": {
    "tags": []
   },
   "outputs": [],
   "source": [
    "def get_filepaths(directory,ftype='.wav'):\n",
    "    file_paths = []\n",
    "    for root, directories, files in os.walk(directory):\n",
    "        for filename in files:\n",
    "            if filename.endswith(ftype):\n",
    "                filepath = os.path.join(root, filename)\n",
    "                file_paths.append(filepath)  # Add it to the list.\n",
    "\n",
    "    return sorted(file_paths)"
   ]
  },
  {
   "cell_type": "code",
   "execution_count": 7,
   "id": "8c3c545f-00fb-48f9-af41-c2692a82a2f4",
   "metadata": {
    "tags": []
   },
   "outputs": [],
   "source": [
    "input_path = '/mnt/TMHINT_QI_V2/Test/Noisy'\n",
    "output_path = '/mnt/TMHINT_QI_V2re/testing/noisy'\n",
    "\n",
    "paths = get_filepaths(input_path)\n"
   ]
  },
  {
   "cell_type": "code",
   "execution_count": 20,
   "id": "512ad537-5a83-4eb0-b352-52a707e85b0b",
   "metadata": {
    "tags": []
   },
   "outputs": [
    {
     "data": {
      "text/plain": [
       "'TMHINT_b2_21_01.wav'"
      ]
     },
     "execution_count": 20,
     "metadata": {},
     "output_type": "execute_result"
    }
   ],
   "source": [
    "paths = get_filepaths(output_path)\n",
    "paths[0].split('/')[-1].split('_')[-4]+'_'+paths[0].split('/')[-1].split('_')[-3]+'_'+paths[0].split('/')[-1].split('_')[-2]+'_'+paths[0].split('/')[-1].split('_')[-1]"
   ]
  },
  {
   "cell_type": "code",
   "execution_count": 4,
   "id": "8e8319bd-8253-4b83-8964-2e9445f47403",
   "metadata": {
    "tags": []
   },
   "outputs": [
    {
     "name": "stderr",
     "output_type": "stream",
     "text": [
      "100%|█████████████████████████████████████████████████████████████████████████████████████████████████████████████████████████████████████████████████████████| 3680/3680 [05:42<00:00, 10.73it/s]\n"
     ]
    }
   ],
   "source": [
    "for path in tqdm(paths):\n",
    "    \n",
    "    wave_type = path.split('/')[-4]\n",
    "    snr_type = path.split('/')[-3]\n",
    "    noise_type = path.split('/')[-2]\n",
    "    wave_name = path.split('/')[-1]\n",
    "    \n",
    "    re_name = path.split('/')[-4]+'_'+path.split('/')[-3]+'_'+path.split('/')[-2]+'_'+path.split('/')[-1]\n",
    "    re_path = os.path.join(output_path, re_name)\n",
    "    \n",
    "    shutil.copyfile(path, re_path)\n",
    "    "
   ]
  },
  {
   "cell_type": "code",
   "execution_count": 4,
   "id": "46971f8e-1731-413e-b988-4091832cf018",
   "metadata": {},
   "outputs": [
    {
     "name": "stderr",
     "output_type": "stream",
     "text": [
      "100%|█████████████████████████████████████████████████████████████████████████████████████████████████████████████████████████████████████████████████████████| 1199/1199 [01:13<00:00, 16.32it/s]\n"
     ]
    }
   ],
   "source": [
    "input_path = '/mnt/TMHINT_QI_V2/Train/clean_ori_no_pcs'\n",
    "output_path = '/mnt/TMHINT_QI_V2re/training/clean'\n",
    "\n",
    "paths = get_filepaths(input_path)\n",
    "\n",
    "for path in tqdm(paths):\n",
    "    \n",
    "    wave_name = path.split('/')[-1]\n",
    "    \n",
    "    re_path = os.path.join(output_path, wave_name)\n",
    "    \n",
    "    shutil.copyfile(path, re_path)"
   ]
  }
 ],
 "metadata": {
  "kernelspec": {
   "display_name": "Python [conda env:InternSE]",
   "language": "python",
   "name": "conda-env-InternSE-py"
  },
  "language_info": {
   "codemirror_mode": {
    "name": "ipython",
    "version": 3
   },
   "file_extension": ".py",
   "mimetype": "text/x-python",
   "name": "python",
   "nbconvert_exporter": "python",
   "pygments_lexer": "ipython3",
   "version": "3.10.10"
  }
 },
 "nbformat": 4,
 "nbformat_minor": 5
}
